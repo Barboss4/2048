{
  "cells": [
    {
      "cell_type": "markdown",
      "source": [
        "# Codigo"
      ],
      "metadata": {
        "id": "-TKl3yn3_qNy"
      }
    },
    {
      "cell_type": "code",
      "execution_count": null,
      "metadata": {
        "id": "brVUFTrbpcX8",
        "colab": {
          "base_uri": "https://localhost:8080/"
        },
        "outputId": "93102e0f-a67d-4219-991c-eef25e65de89"
      },
      "outputs": [
        {
          "output_type": "stream",
          "name": "stderr",
          "text": [
            "/usr/local/lib/python3.10/dist-packages/ipykernel/ipkernel.py:283: DeprecationWarning: `should_run_async` will not call `transform_cell` automatically in the future. Please pass the result to `transformed_cell` argument and any exception that happen during thetransform in `preprocessing_exc_tuple` in IPython 7.17 and above.\n",
            "  and should_run_async(code)\n"
          ]
        }
      ],
      "source": [
        "from IPython.display import clear_output\n",
        "import time\n",
        "import gym\n",
        "from gym import spaces\n",
        "import numpy as np\n",
        "import random\n",
        "from tqdm import tqdm\n",
        "import matplotlib.pyplot as plt\n"
      ]
    },
    {
      "cell_type": "code",
      "source": [
        "import torch\n",
        "import torch.nn as nn\n",
        "import torch.optim as optim"
      ],
      "metadata": {
        "id": "TX2wXWFXWkI4",
        "colab": {
          "base_uri": "https://localhost:8080/"
        },
        "outputId": "38a87ee6-7765-4993-a8df-2258db84f0d2"
      },
      "execution_count": null,
      "outputs": [
        {
          "output_type": "stream",
          "name": "stderr",
          "text": [
            "/usr/local/lib/python3.10/dist-packages/ipykernel/ipkernel.py:283: DeprecationWarning: `should_run_async` will not call `transform_cell` automatically in the future. Please pass the result to `transformed_cell` argument and any exception that happen during thetransform in `preprocessing_exc_tuple` in IPython 7.17 and above.\n",
            "  and should_run_async(code)\n"
          ]
        }
      ]
    },
    {
      "cell_type": "code",
      "execution_count": null,
      "metadata": {
        "id": "zFQICEsCe91N"
      },
      "outputs": [],
      "source": [
        "class Game2048Env(gym.Env):\n",
        "  def __init__(self):\n",
        "    super(Game2048Env, self).__init__()\n",
        "\n",
        "    # Define a ação como uma discreta de 0 a 3 representando os movimentos cima, baixo, esquerda, direita\n",
        "    self.action_space = spaces.Discrete(4)\n",
        "\n",
        "    # Define a observação como uma grade 4x4 com valores dos blocos\n",
        "    self.observation_space = spaces.Box(low=0, high=np.inf, shape=(4, 4), dtype=int)\n",
        "\n",
        "    self.reset()\n",
        "\n",
        "  def reset(self):\n",
        "    # Inicializa o tabuleiro com zeros\n",
        "    self.board = np.zeros((4, 4), dtype=int)\n",
        "    self.score = 0\n",
        "    self.add_new_tile()\n",
        "    return self.board\n",
        "\n",
        "  def move(self, action):\n",
        "      if action == 0:  # Cima\n",
        "          self.move_tiles(-1, 0)\n",
        "      elif action == 1:  # Baixo\n",
        "          self.move_tiles(1, 0)\n",
        "      elif action == 2:  # Esquerda\n",
        "          self.move_tiles(0, -1)\n",
        "      elif action == 3:  # Direita\n",
        "          self.move_tiles(0, 1)\n",
        "\n",
        "  def move_tiles(self, delta_row, delta_col):\n",
        "\n",
        "    moved = False  # Variável para verificar se houve algum movimento\n",
        "\n",
        "    for row in range(4):\n",
        "      for col in range(4):\n",
        "        if self.board[row][col] != 0:\n",
        "          r, c = row, col\n",
        "          while 0 <= r + delta_row < 4 and 0 <= c + delta_col < 4 and \\\n",
        "              (self.board[r + delta_row][c + delta_col] == 0 or \\\n",
        "              self.board[r + delta_row][c + delta_col] == self.board[row][col]):\n",
        "            r += delta_row\n",
        "            c += delta_col\n",
        "          if r != row or c != col:\n",
        "            if self.board[r][c] == self.board[row][col]:\n",
        "                self.board[r][c] *= 2\n",
        "            else:\n",
        "                self.board[r][c] = self.board[row][col]\n",
        "            self.board[row][col] = 0\n",
        "          moved = True\n",
        "\n",
        "\n",
        "  def calculate_reward(self, prev_board):\n",
        "      # Inicializa a recompensa como 0\n",
        "    reward = 0\n",
        "\n",
        "    # Calcula a diferença entre o tabuleiro atual e o tabuleiro anterior\n",
        "    diff_board = self.board - prev_board\n",
        "\n",
        "    # Verifica se houve alguma combinação de blocos\n",
        "    if np.any(diff_board > 0):\n",
        "      reward += np.sum(diff_board[diff_board > 0])  # recompensa pela combinação de blocos\n",
        "\n",
        "    # Verifica se o bloco 2048 foi formado\n",
        "    if 2048 in self.board:\n",
        "      reward += 2048  # recompensa pela formação do bloco 2048\n",
        "\n",
        "    # Retorna a recompensa calculada\n",
        "    return reward\n",
        "\n",
        "  def is_game_over(self):\n",
        "    # Verifica se há um bloco com o valor 2048 no tabuleiro\n",
        "    for row in self.board:\n",
        "      if 2048 in row:\n",
        "          #print('ganhou')\n",
        "          return True\n",
        "\n",
        "    # Verifica se não há mais movimentos possíveis\n",
        "    for i in range(4):\n",
        "      for j in range(4):\n",
        "        # Se houver um bloco vazio, o jogo ainda não acabou\n",
        "        if self.board[i][j] == 0:\n",
        "          return False\n",
        "        # Verifica se existem movimentos possíveis nas direções cima, baixo, esquerda, direita\n",
        "        if (i < 3 and self.board[i][j] == self.board[i + 1][j]) or (j < 3 and self.board[i][j] == self.board[i][j + 1]):\n",
        "          return False\n",
        "         # Se nenhum dos casos acima ocorrer, o jogo acabou\n",
        "    #print('perdeu')\n",
        "    return True\n",
        "\n",
        "  def step(self, action):\n",
        "    prev_board = np.copy(self.board)  # copia o tabuleiro antes de executar a ação\n",
        "\n",
        "    # Executa a ação (move os blocos)\n",
        "    self.move(action)\n",
        "\n",
        "    # Verifica se houve alguma mudança no tabuleiro após o movimento\n",
        "    moved = not np.array_equal(self.board, prev_board)\n",
        "\n",
        "    # Adiciona um novo bloco se houve um movimento\n",
        "    if moved:\n",
        "        self.add_new_tile()\n",
        "\n",
        "    # Calcula a recompensa\n",
        "    reward = self.calculate_reward(prev_board)\n",
        "\n",
        "    # Verifica se o jogo terminou\n",
        "    done = self.is_game_over()\n",
        "\n",
        "    # Retorna a observação, a recompensa, e se o jogo terminou\n",
        "    return self.board, reward, done, {}\n",
        "\n",
        "  def add_new_tile(self):\n",
        "\n",
        "    # Encontre todas as posições vazias no tabuleiro\n",
        "    empty_positions = [(i, j) for i in range(4) for j in range(4) if self.board[i][j] == 0]\n",
        "\n",
        "    # Verifique se existem posições vazias\n",
        "    if len(empty_positions) > 0:\n",
        "      # Escolha aleatoriamente uma posição vazia\n",
        "      new_tile_position = np.random.choice(len(empty_positions))\n",
        "\n",
        "      # Escolha aleatoriamente o valor do novo bloco (2 com probabilidade 0.9, 4 com probabilidade 0.1)\n",
        "      new_tile_value = np.random.choice([2, 4], p=[0.9, 0.1])\n",
        "\n",
        "      # Adicione o novo bloco ao tabuleiro na posição escolhida\n",
        "      i, j = empty_positions[new_tile_position]\n",
        "      self.board[i][j] = new_tile_value\n",
        "\n",
        "      # Verifica se houve fusão de blocos, ou seja, se a posição do novo bloco estava vazia anteriormente\n",
        "      if len(empty_positions) > 1:\n",
        "        return True\n",
        "      else:\n",
        "        return False\n",
        "\n",
        "  def render(self, mode='human'):\n",
        "    for row in self.board:\n",
        "        print(\"+\" + \"-\"*7 + \"+\" + \"-\"*7 + \"+\" + \"-\"*7 + \"+\" + \"-\"*7 + \"+\")\n",
        "        print(\"|{:^7}|{:^7}|{:^7}|{:^7}|\".format(*[num if num != 0 else '' for num in row]))\n",
        "    print(\"+\" + \"-\"*7 + \"+\" + \"-\"*7 + \"+\" + \"-\"*7 + \"+\" + \"-\"*7 + \"+\")\n",
        "\n",
        "env= Game2048Env()"
      ]
    },
    {
      "cell_type": "code",
      "source": [
        "print(\"Action Space {}\".format(env.action_space.n))\n",
        "print(\"State Space {}\".format(env.observation_space))"
      ],
      "metadata": {
        "colab": {
          "base_uri": "https://localhost:8080/"
        },
        "id": "ybUhkveJVsMy",
        "outputId": "9a98cdc9-82ba-46da-c35a-a6cd94ee5c40"
      },
      "execution_count": null,
      "outputs": [
        {
          "output_type": "stream",
          "name": "stdout",
          "text": [
            "Action Space 4\n",
            "State Space Box(0, 9223372036854775805, (4, 4), int64)\n"
          ]
        }
      ]
    },
    {
      "cell_type": "code",
      "source": [
        "class NeuralNetwork(nn.Module):\n",
        "    def __init__(self):\n",
        "        super(NeuralNetwork, self).__init__()\n",
        "        self.fc1 = nn.Linear(16, 128)\n",
        "        self.fc2 = nn.Linear(128, 64)\n",
        "        self.fc3 = nn.Linear(64, 4)  # 4 ações possíveis\n",
        "\n",
        "    def forward(self, x):\n",
        "        x = torch.relu(self.fc1(x))\n",
        "        x = torch.relu(self.fc2(x))\n",
        "        x = self.fc3(x)\n",
        "        return x\n",
        "\n",
        "model = NeuralNetwork()"
      ],
      "metadata": {
        "id": "NIUOSbzwWhQD"
      },
      "execution_count": null,
      "outputs": []
    },
    {
      "cell_type": "code",
      "source": [
        "def board_to_vector(board):\n",
        "  return torch.FloatTensor(board.flatten())\n",
        "\n",
        "# Função para selecionar a melhor ação de acordo com os valores Q\n",
        "def select_action(q_values):\n",
        "  return torch.argmax(q_values).item()"
      ],
      "metadata": {
        "id": "NTmcxoM7Wpei"
      },
      "execution_count": null,
      "outputs": []
    },
    {
      "cell_type": "code",
      "source": [
        "# Inicializa o modelo\n",
        "model = NeuralNetwork()\n",
        "\n",
        "# Definindo a função de perda e o otimizador\n",
        "criterion = nn.MSELoss()\n",
        "optimizer = optim.Adam(model.parameters(), lr=0.001)"
      ],
      "metadata": {
        "id": "93AOVKQ_o7TS"
      },
      "execution_count": null,
      "outputs": []
    },
    {
      "cell_type": "code",
      "source": [
        "def totensor(obs,model):\n",
        "  input_tensor = board_to_vector(obs)\n",
        "  # Passa o tensor pela rede neural\n",
        "  output_tensor = model(input_tensor)\n",
        "  return output_tensor"
      ],
      "metadata": {
        "id": "vqGE4htNpOWx"
      },
      "execution_count": null,
      "outputs": []
    },
    {
      "cell_type": "code",
      "source": [
        "b = board_to_vector(obs)\n",
        "b, select_action(b)"
      ],
      "metadata": {
        "colab": {
          "base_uri": "https://localhost:8080/"
        },
        "id": "uHz-apj8Mpjr",
        "outputId": "38dfa11f-5720-4dd8-f615-3a7049382836"
      },
      "execution_count": null,
      "outputs": [
        {
          "output_type": "stream",
          "name": "stderr",
          "text": [
            "/usr/local/lib/python3.10/dist-packages/ipykernel/ipkernel.py:283: DeprecationWarning: `should_run_async` will not call `transform_cell` automatically in the future. Please pass the result to `transformed_cell` argument and any exception that happen during thetransform in `preprocessing_exc_tuple` in IPython 7.17 and above.\n",
            "  and should_run_async(code)\n"
          ]
        },
        {
          "output_type": "execute_result",
          "data": {
            "text/plain": [
              "(tensor([0., 0., 0., 0., 0., 0., 0., 0., 0., 0., 0., 0., 0., 2., 0., 0.]),\n",
              " tensor(13))"
            ]
          },
          "metadata": {},
          "execution_count": 22
        }
      ]
    },
    {
      "cell_type": "code",
      "source": [
        "totensor(obs,model)"
      ],
      "metadata": {
        "colab": {
          "base_uri": "https://localhost:8080/"
        },
        "id": "SYkdd6_JNpNp",
        "outputId": "c8bbb820-5666-41cb-b49a-eceecb7ff3e1"
      },
      "execution_count": null,
      "outputs": [
        {
          "output_type": "execute_result",
          "data": {
            "text/plain": [
              "tensor([-0.0348,  0.0618,  0.0520, -0.0106], grad_fn=<ViewBackward0>)"
            ]
          },
          "metadata": {},
          "execution_count": 25
        }
      ]
    },
    {
      "cell_type": "code",
      "source": [
        "def Q_target(reward,gamma,model,next_obs):\n",
        "  return reward + gamma * torch.max(model(torch.tensor(next_obs, dtype=torch.float32))).item()"
      ],
      "metadata": {
        "id": "vMm_6uDvUcGr"
      },
      "execution_count": null,
      "outputs": []
    },
    {
      "cell_type": "code",
      "source": [
        "def select_action(q_values, epsilon):\n",
        "    num_actions = len(q_values)\n",
        "\n",
        "    if random.random() < epsilon:\n",
        "        action = random.randrange(num_actions)  # Escolhe uma ação aleatória\n",
        "    else:\n",
        "        action = torch.argmax(q_values).item()  # Escolhe a melhor ação\n",
        "\n",
        "    return action"
      ],
      "metadata": {
        "id": "tqwMmExX9KLR"
      },
      "execution_count": null,
      "outputs": []
    },
    {
      "cell_type": "code",
      "source": [
        "recompensas_finais = []\n",
        "losses = []\n",
        "num_games = 10000\n",
        "gamma = 0.9\n",
        "learningrate = 0.001\n",
        "initial_epsilon = 1.0\n",
        "min_epsilon = 0.1\n",
        "decay_rate = 0.001\n",
        "epsilon = initial_epsilon\n",
        "\n",
        "for _ in tqdm(range(num_games), desc=\"Treinando\"):\n",
        "\n",
        "  obs = env.reset()\n",
        "  total_reward = 0\n",
        "\n",
        "  # Loop principal\n",
        "  while True:\n",
        "\n",
        "    epsilon = max(min_epsilon, epsilon - decay_rate)\n",
        "    # Converta a observação para um tensor torch\n",
        "    obs_tensor = board_to_vector(obs)\n",
        "\n",
        "    # Obtenha os valores Q previstos pela rede neural\n",
        "    q_values = model(obs_tensor)\n",
        "\n",
        "    # Escolha a ação com maior valor Q\n",
        "    action = select_action(q_values, epsilon)\n",
        "\n",
        "    next_obs, reward, done, _ = env.step(action)\n",
        "\n",
        "    next_obs = board_to_vector(next_obs)\n",
        "\n",
        "    # Código para calcular o Q-target\n",
        "    with torch.no_grad():\n",
        "      q_target = Q_target(reward,gamma,model,next_obs)\n",
        "\n",
        "    # Atualize o valor Q para a ação escolhida usando o Q-target\n",
        "    q_values[action] = q_target\n",
        "\n",
        "    # Calcule a perda\n",
        "    loss = criterion(q_values, q_values)\n",
        "\n",
        "    # Realize o backpropagation e atualize os parâmetros do modelo\n",
        "    optimizer.zero_grad()\n",
        "    loss.backward()\n",
        "    optimizer.step()\n",
        "\n",
        "    # Atualize a observação atual para a próxima observação\n",
        "    total_reward += reward\n",
        "    obs = next_obs\n",
        "\n",
        "    if done:\n",
        "        recompensas_finais.append(total_reward)\n",
        "        losses.append(loss.item())\n",
        "        break\n",
        "\n",
        "print(\"Treinamento concluído!\")\n",
        "# Calcular métricas finais\n",
        "recompensa_media_final = sum(recompensas_finais) / len(recompensas_finais)\n",
        "recompensa_maxima = max(recompensas_finais)\n",
        "loss_medio = sum(losses) / len(losses)\n",
        "num_vitorias = sum(1 for reward in recompensas_finais if reward >= 2048)\n",
        "num_derrotas = len(recompensas_finais) - num_vitorias\n",
        "\n",
        "print(f\"Recompensa final média: {recompensa_media_final}\")\n",
        "print(f\"Recompensa máxima: {recompensa_maxima}\")\n",
        "print(f\"Loss médio: {loss_medio}\")\n",
        "print(f\"Número de vitórias: {num_vitorias}\")\n",
        "print(f\"Número de derrotas: {num_derrotas}\")"
      ],
      "metadata": {
        "id": "0SDsJhj_QzEs",
        "colab": {
          "base_uri": "https://localhost:8080/"
        },
        "outputId": "a147380b-f701-41b1-f255-802eed5d5925"
      },
      "execution_count": null,
      "outputs": [
        {
          "output_type": "stream",
          "name": "stderr",
          "text": [
            "\rTreinando:   0%|          | 0/10000 [00:00<?, ?it/s]<ipython-input-10-f9b5d548dcec>:2: UserWarning: To copy construct from a tensor, it is recommended to use sourceTensor.clone().detach() or sourceTensor.clone().detach().requires_grad_(True), rather than torch.tensor(sourceTensor).\n",
            "  return reward + gamma * torch.max(model(torch.tensor(next_obs, dtype=torch.float32))).item()\n",
            "Treinando:  22%|██▏       | 2187/10000 [30:00<1:58:45,  1.10it/s]"
          ]
        }
      ]
    },
    {
      "cell_type": "code",
      "source": [
        "# Plotando a perda ao longo do tempo\n",
        "plt.plot(losses)\n",
        "plt.xlabel('Iterações de Treinamento')\n",
        "plt.ylabel('Loss')\n",
        "plt.title('Loss ao longo do tempo de Treinamento')\n",
        "plt.show()"
      ],
      "metadata": {
        "colab": {
          "base_uri": "https://localhost:8080/",
          "height": 472
        },
        "id": "PbOOpuA-MGZO",
        "outputId": "fd1c5979-54e6-47d8-8e66-657115ebc8fb"
      },
      "execution_count": null,
      "outputs": [
        {
          "output_type": "display_data",
          "data": {
            "text/plain": [
              "<Figure size 640x480 with 1 Axes>"
            ],
            "image/png": "[encoded data removed]"
          },
          "metadata": {}
        }
      ]
    },
    {
      "cell_type": "markdown",
      "source": [
        "# Testes de atributos"
      ],
      "metadata": {
        "id": "-yKNSU4Y_k46"
      }
    },
    {
      "cell_type": "code",
      "source": [
        "obs_tensor=  board_to_vector(obs)\n",
        "q_values = model(obs_tensor)\n",
        "print(q_values)\n",
        "action = torch.argmax(q_values).item()\n",
        "print(action)\n",
        "next_obs, reward, done, _ = env.step(action)"
      ],
      "metadata": {
        "colab": {
          "base_uri": "https://localhost:8080/"
        },
        "id": "4OyIzyyySM1z",
        "outputId": "64fe1285-4e2a-4d83-a383-bd648e50f484"
      },
      "execution_count": null,
      "outputs": [
        {
          "output_type": "stream",
          "name": "stdout",
          "text": [
            "tensor([ 0.1263,  0.3559,  0.3743, -0.0695], grad_fn=<ViewBackward0>)\n",
            "2\n"
          ]
        }
      ]
    },
    {
      "cell_type": "code",
      "source": [
        "torch.max(model(board_to_vector(next_obs))).item()"
      ],
      "metadata": {
        "colab": {
          "base_uri": "https://localhost:8080/"
        },
        "id": "6oDx2Lt5ZyEs",
        "outputId": "4df538e1-6572-416e-9e9a-db9043ec29ae"
      },
      "execution_count": null,
      "outputs": [
        {
          "output_type": "execute_result",
          "data": {
            "text/plain": [
              "0.32829540967941284"
            ]
          },
          "metadata": {},
          "execution_count": 91
        }
      ]
    },
    {
      "cell_type": "code",
      "source": [
        "b = torch.max(model(board_to_vector(next_obs))).item()\n",
        "c = model(board_to_vector(next_obs))\n",
        "q_target = reward + gamma * b\n",
        "q_values, b, c, q_target"
      ],
      "metadata": {
        "colab": {
          "base_uri": "https://localhost:8080/"
        },
        "id": "maSD9u5uSxlq",
        "outputId": "05f08df2-35ea-4934-a0f6-4f43466e897e"
      },
      "execution_count": null,
      "outputs": [
        {
          "output_type": "execute_result",
          "data": {
            "text/plain": [
              "(tensor([ 0.1263,  0.3559,  0.3743, -0.0695], grad_fn=<ViewBackward0>),\n",
              " 0.32829540967941284,\n",
              " tensor([ 0.1012,  0.3283,  0.2252, -0.1801], grad_fn=<ViewBackward0>),\n",
              " 10.29546586871147)"
            ]
          },
          "metadata": {},
          "execution_count": 92
        }
      ]
    },
    {
      "cell_type": "code",
      "source": [
        "q_values[action] = q_target\n",
        "\n",
        "q_values"
      ],
      "metadata": {
        "colab": {
          "base_uri": "https://localhost:8080/"
        },
        "id": "IAs6E4njTS-L",
        "outputId": "848481d9-a734-43e9-e5a8-4ec9326ff2d6"
      },
      "execution_count": null,
      "outputs": [
        {
          "output_type": "execute_result",
          "data": {
            "text/plain": [
              "tensor([ 0.1263,  0.3559, 10.2955, -0.0695], grad_fn=<AsStridedBackward0>)"
            ]
          },
          "metadata": {},
          "execution_count": 93
        }
      ]
    },
    {
      "cell_type": "markdown",
      "source": [
        "# Jogando"
      ],
      "metadata": {
        "id": "1hDkqLjx_2Hq"
      }
    },
    {
      "cell_type": "code",
      "source": [
        "obs = env.reset()\n",
        "print(obs)\n",
        "\n",
        "while True:\n",
        "  action = int(input(\"Escolha sua ação (0 para up, 1 para down,2 para left,3 para right): \"))\n",
        "  if action == 99:\n",
        "    break\n",
        "  next_obs, reward, done, _ = env.step(action)\n",
        "  obs = next_obs\n",
        "  print(obs)\n",
        "  if done == True:\n",
        "    break"
      ],
      "metadata": {
        "colab": {
          "base_uri": "https://localhost:8080/",
          "height": 384
        },
        "id": "KkLA-jnCVwoD",
        "outputId": "48339bba-e1a6-4ab8-d7e7-6953a53477fe"
      },
      "execution_count": null,
      "outputs": [
        {
          "output_type": "stream",
          "name": "stdout",
          "text": [
            "(4, 4)\n"
          ]
        },
        {
          "output_type": "error",
          "ename": "KeyboardInterrupt",
          "evalue": "Interrupted by user",
          "traceback": [
            "\u001b[0;31m---------------------------------------------------------------------------\u001b[0m",
            "\u001b[0;31mKeyboardInterrupt\u001b[0m                         Traceback (most recent call last)",
            "\u001b[0;32m<ipython-input-26-90922f187114>\u001b[0m in \u001b[0;36m<cell line: 4>\u001b[0;34m()\u001b[0m\n\u001b[1;32m      3\u001b[0m \u001b[0;34m\u001b[0m\u001b[0m\n\u001b[1;32m      4\u001b[0m \u001b[0;32mwhile\u001b[0m \u001b[0;32mTrue\u001b[0m\u001b[0;34m:\u001b[0m\u001b[0;34m\u001b[0m\u001b[0;34m\u001b[0m\u001b[0m\n\u001b[0;32m----> 5\u001b[0;31m   \u001b[0maction\u001b[0m \u001b[0;34m=\u001b[0m \u001b[0mint\u001b[0m\u001b[0;34m(\u001b[0m\u001b[0minput\u001b[0m\u001b[0;34m(\u001b[0m\u001b[0;34m\"Escolha sua ação (0 para up, 1 para down,2 para left,3 para right): \"\u001b[0m\u001b[0;34m)\u001b[0m\u001b[0;34m)\u001b[0m\u001b[0;34m\u001b[0m\u001b[0;34m\u001b[0m\u001b[0m\n\u001b[0m\u001b[1;32m      6\u001b[0m   \u001b[0;32mif\u001b[0m \u001b[0maction\u001b[0m \u001b[0;34m==\u001b[0m \u001b[0;36m99\u001b[0m\u001b[0;34m:\u001b[0m\u001b[0;34m\u001b[0m\u001b[0;34m\u001b[0m\u001b[0m\n\u001b[1;32m      7\u001b[0m     \u001b[0;32mbreak\u001b[0m\u001b[0;34m\u001b[0m\u001b[0;34m\u001b[0m\u001b[0m\n",
            "\u001b[0;32m/usr/local/lib/python3.10/dist-packages/ipykernel/kernelbase.py\u001b[0m in \u001b[0;36mraw_input\u001b[0;34m(self, prompt)\u001b[0m\n\u001b[1;32m    849\u001b[0m                 \u001b[0;34m\"raw_input was called, but this frontend does not support input requests.\"\u001b[0m\u001b[0;34m\u001b[0m\u001b[0;34m\u001b[0m\u001b[0m\n\u001b[1;32m    850\u001b[0m             )\n\u001b[0;32m--> 851\u001b[0;31m         return self._input_request(str(prompt),\n\u001b[0m\u001b[1;32m    852\u001b[0m             \u001b[0mself\u001b[0m\u001b[0;34m.\u001b[0m\u001b[0m_parent_ident\u001b[0m\u001b[0;34m,\u001b[0m\u001b[0;34m\u001b[0m\u001b[0;34m\u001b[0m\u001b[0m\n\u001b[1;32m    853\u001b[0m             \u001b[0mself\u001b[0m\u001b[0;34m.\u001b[0m\u001b[0m_parent_header\u001b[0m\u001b[0;34m,\u001b[0m\u001b[0;34m\u001b[0m\u001b[0;34m\u001b[0m\u001b[0m\n",
            "\u001b[0;32m/usr/local/lib/python3.10/dist-packages/ipykernel/kernelbase.py\u001b[0m in \u001b[0;36m_input_request\u001b[0;34m(self, prompt, ident, parent, password)\u001b[0m\n\u001b[1;32m    893\u001b[0m             \u001b[0;32mexcept\u001b[0m \u001b[0mKeyboardInterrupt\u001b[0m\u001b[0;34m:\u001b[0m\u001b[0;34m\u001b[0m\u001b[0;34m\u001b[0m\u001b[0m\n\u001b[1;32m    894\u001b[0m                 \u001b[0;31m# re-raise KeyboardInterrupt, to truncate traceback\u001b[0m\u001b[0;34m\u001b[0m\u001b[0;34m\u001b[0m\u001b[0m\n\u001b[0;32m--> 895\u001b[0;31m                 \u001b[0;32mraise\u001b[0m \u001b[0mKeyboardInterrupt\u001b[0m\u001b[0;34m(\u001b[0m\u001b[0;34m\"Interrupted by user\"\u001b[0m\u001b[0;34m)\u001b[0m \u001b[0;32mfrom\u001b[0m \u001b[0;32mNone\u001b[0m\u001b[0;34m\u001b[0m\u001b[0;34m\u001b[0m\u001b[0m\n\u001b[0m\u001b[1;32m    896\u001b[0m             \u001b[0;32mexcept\u001b[0m \u001b[0mException\u001b[0m \u001b[0;32mas\u001b[0m \u001b[0me\u001b[0m\u001b[0;34m:\u001b[0m\u001b[0;34m\u001b[0m\u001b[0;34m\u001b[0m\u001b[0m\n\u001b[1;32m    897\u001b[0m                 \u001b[0mself\u001b[0m\u001b[0;34m.\u001b[0m\u001b[0mlog\u001b[0m\u001b[0;34m.\u001b[0m\u001b[0mwarning\u001b[0m\u001b[0;34m(\u001b[0m\u001b[0;34m\"Invalid Message:\"\u001b[0m\u001b[0;34m,\u001b[0m \u001b[0mexc_info\u001b[0m\u001b[0;34m=\u001b[0m\u001b[0;32mTrue\u001b[0m\u001b[0;34m)\u001b[0m\u001b[0;34m\u001b[0m\u001b[0;34m\u001b[0m\u001b[0m\n",
            "\u001b[0;31mKeyboardInterrupt\u001b[0m: Interrupted by user"
          ]
        }
      ]
    }
  ],
  "metadata": {
    "colab": {
      "provenance": []
    },
    "kernelspec": {
      "display_name": "Python 3",
      "name": "python3"
    },
    "language_info": {
      "name": "python"
    }
  },
  "nbformat": 4,
  "nbformat_minor": 0
}